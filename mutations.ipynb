{
 "cells": [
  {
   "cell_type": "raw",
   "metadata": {},
   "source": [
    "Définition de l'individu: \n",
    "Il faut distinguer si c'est un mâle ou une femelle. Les objets que nous utiliseront seront présentés ci-dessous. "
   ]
  },
  {
   "cell_type": "code",
   "execution_count": 5,
   "metadata": {},
   "outputs": [],
   "source": [
    "#représentation des differents objects que nous allons manipuler. \n",
    "#l'individu\n",
    "#x=s,nb_chr,nb_mut\n",
    "#la population \n",
    "#POP={x1,x2,...,xi,...xn}\n",
    "#p est la probabilité d'avoir de mâles\n",
    "p=0.5\n",
    "pop=25"
   ]
  },
  {
   "cell_type": "code",
   "execution_count": 67,
   "metadata": {},
   "outputs": [],
   "source": [
    "import random\n",
    "def generateursex(p): \n",
    "    r=random.random()\n",
    "    if (r%100)<p:\n",
    "        return 'F'\n",
    "    else: \n",
    "        return 'M'"
   ]
  },
  {
   "cell_type": "code",
   "execution_count": 68,
   "metadata": {},
   "outputs": [
    {
     "name": "stdout",
     "output_type": "stream",
     "text": [
      "F\n"
     ]
    }
   ],
   "source": [
    "print(generateursex(0.5) )"
   ]
  },
  {
   "cell_type": "code",
   "execution_count": 69,
   "metadata": {},
   "outputs": [],
   "source": [
    "def generateurmonde(pop):\n",
    "    E={}\n",
    "    for i in range(pop):\n",
    "        E[i]=(generateursex(p),23,0)\n",
    "    return E"
   ]
  },
  {
   "cell_type": "code",
   "execution_count": 71,
   "metadata": {},
   "outputs": [
    {
     "name": "stdout",
     "output_type": "stream",
     "text": [
      "{0: ('F', 23, 0), 1: ('M', 23, 0), 2: ('F', 23, 0), 3: ('M', 23, 0), 4: ('M', 23, 0), 5: ('M', 23, 0), 6: ('F', 23, 0), 7: ('F', 23, 0), 8: ('M', 23, 0), 9: ('F', 23, 0), 10: ('M', 23, 0), 11: ('M', 23, 0), 12: ('M', 23, 0), 13: ('F', 23, 0), 14: ('M', 23, 0), 15: ('F', 23, 0), 16: ('M', 23, 0), 17: ('F', 23, 0), 18: ('F', 23, 0), 19: ('M', 23, 0), 20: ('F', 23, 0), 21: ('M', 23, 0), 22: ('F', 23, 0), 23: ('F', 23, 0), 24: ('F', 23, 0)}\n"
     ]
    }
   ],
   "source": [
    "print(generateurmonde(pop))"
   ]
  },
  {
   "cell_type": "code",
   "execution_count": 72,
   "metadata": {},
   "outputs": [],
   "source": [
    "E={0: ('F', 23, 0), 1: ('M', 23, 0), 2: ('F', 23, 0), 3: ('M', 23, 0), 4: ('M', 23, 0), 5: ('M', 23, 0), 6: ('F', 23, 0), 7: ('F', 23, 0), 8: ('M', 23, 0), 9: ('F', 23, 0), 10: ('M', 23, 0), 11: ('M', 23, 0), 12: ('M', 23, 0), 13: ('F', 23, 0), 14: ('M', 23, 0), 15: ('F', 23, 0), 16: ('M', 23, 0), 17: ('F', 23, 0), 18: ('F', 23, 0), 19: ('M', 23, 0), 20: ('F', 23, 0), 21: ('M', 23, 0), 22: ('F', 23, 0), 23: ('F', 23, 0), 24: ('F', 23, 0)}"
   ]
  },
  {
   "cell_type": "code",
   "execution_count": 73,
   "metadata": {},
   "outputs": [
    {
     "name": "stdout",
     "output_type": "stream",
     "text": [
      "('F', 23, 0)\n"
     ]
    }
   ],
   "source": [
    "print(E[0])"
   ]
  },
  {
   "cell_type": "code",
   "execution_count": 83,
   "metadata": {},
   "outputs": [],
   "source": [
    "import numpy as np \n",
    "import matplotlib.pyplot as plt\n",
    "l=5\n",
    "c=5\n",
    "def tab(l,c,E):\n",
    "    A=np.zeros((l,c))\n",
    "    k=0\n",
    "    for i in range(l):\n",
    "        for j in range(c):\n",
    "            if E[k][0]=='F':\n",
    "                A[i][j]=1\n",
    "                k=k+1\n",
    "            else:\n",
    "                A[i][j]=-1\n",
    "                k=k+1\n",
    "            \n",
    "    return A"
   ]
  },
  {
   "cell_type": "code",
   "execution_count": 84,
   "metadata": {},
   "outputs": [
    {
     "name": "stdout",
     "output_type": "stream",
     "text": [
      "[[ 1. -1.  1. -1. -1.]\n",
      " [-1.  1.  1. -1.  1.]\n",
      " [-1. -1. -1.  1. -1.]\n",
      " [ 1. -1.  1.  1. -1.]\n",
      " [ 1. -1.  1.  1.  1.]]\n"
     ]
    }
   ],
   "source": [
    "print(tab(l,c,E))"
   ]
  },
  {
   "cell_type": "code",
   "execution_count": 96,
   "metadata": {},
   "outputs": [
    {
     "data": {
      "image/png": "[encoded data removed]",
      "text/plain": [
       "<Figure size 432x288 with 1 Axes>"
      ]
     },
     "metadata": {
      "needs_background": "light"
     },
     "output_type": "display_data"
    }
   ],
   "source": [
    "plt.imshow(tab(l,c,E), cmap='cool')\n",
    "plt.show()\n"
   ]
  },
  {
   "cell_type": "raw",
   "metadata": {},
   "source": [
    "donc le rose symbolise que l'individu est une femelle et bleu un mâle"
   ]
  },
  {
   "cell_type": "code",
   "execution_count": 121,
   "metadata": {},
   "outputs": [],
   "source": [
    "def enfants(F,M):\n",
    "    New_E={}\n",
    "    sf,nb_chrf,nb_mutf=F\n",
    "    sm,nb_chrm,nb_mutm=M\n",
    "    New_E[0]=(generateursex(p), nb_chrf, random.choice([nb_mutf,nb_mutm]))\n",
    "    New_E[1]=(generateursex(p), nb_chrf, random.choice([nb_mutf,nb_mutm]))\n",
    "    return New_E "
   ]
  },
  {
   "cell_type": "code",
   "execution_count": 122,
   "metadata": {},
   "outputs": [
    {
     "name": "stdout",
     "output_type": "stream",
     "text": [
      "{0: ('F', 23, 0), 1: ('F', 23, 0)}\n"
     ]
    }
   ],
   "source": [
    "print(enfants(E[0],E[1]))"
   ]
  },
  {
   "cell_type": "code",
   "execution_count": null,
   "metadata": {},
   "outputs": [],
   "source": []
  }
 ],
 "metadata": {
  "kernelspec": {
   "display_name": "Python 3",
   "language": "python",
   "name": "python3"
  },
  "language_info": {
   "codemirror_mode": {
    "name": "ipython",
    "version": 3
   },
   "file_extension": ".py",
   "mimetype": "text/x-python",
   "name": "python",
   "nbconvert_exporter": "python",
   "pygments_lexer": "ipython3",
   "version": "3.7.3"
  }
 },
 "nbformat": 4,
 "nbformat_minor": 2
}
