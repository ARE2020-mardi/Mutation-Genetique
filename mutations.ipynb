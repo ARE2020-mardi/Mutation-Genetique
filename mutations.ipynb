{
 "cells": [
  {
   "cell_type": "raw",
   "metadata": {},
   "source": [
    "Définition de l'individu: \n",
    "Il faut distinguer si c'est un mâle ou une femelle. Les objets que nous utiliseront seront présentés ci-dessous. "
   ]
  },
  {
   "cell_type": "code",
   "execution_count": 1,
   "metadata": {},
   "outputs": [],
   "source": [
    "#représentation des differents objects que nous allons manipuler. \n",
    "#l'individu\n",
    "#x=s,nb_chr,nb_mut\n",
    "#la population \n",
    "#POP=[x1,x2,...,xi,...xn]\n",
    "#p est la probabilité d'avoir de mâles\n",
    "p=0.5\n",
    "pop=25\n",
    "nb_mutations_par_nucléotide=175\n",
    "l=5\n",
    "c=5"
   ]
  },
  {
   "cell_type": "raw",
   "metadata": {},
   "source": [
    "fonction de création d'un monde"
   ]
  },
  {
   "cell_type": "code",
   "execution_count": 2,
   "metadata": {},
   "outputs": [],
   "source": [
    "import random\n",
    "def generateursex(p): \n",
    "    r=random.random()\n",
    "    if r<p:\n",
    "        return 'F'\n",
    "    else: \n",
    "        return 'M'"
   ]
  },
  {
   "cell_type": "code",
   "execution_count": 3,
   "metadata": {},
   "outputs": [
    {
     "name": "stdout",
     "output_type": "stream",
     "text": [
      "F\n"
     ]
    }
   ],
   "source": [
    "print(generateursex(0.5) )"
   ]
  },
  {
   "cell_type": "code",
   "execution_count": 53,
   "metadata": {},
   "outputs": [],
   "source": [
    "def generateurmonde(pop):\n",
    "    E=[]\n",
    "    for i in range(pop):\n",
    "        E.append((generateursex(p),23,0))\n",
    "    return E"
   ]
  },
  {
   "cell_type": "code",
   "execution_count": 54,
   "metadata": {
    "scrolled": true
   },
   "outputs": [
    {
     "name": "stdout",
     "output_type": "stream",
     "text": [
      "[('F', 23, 0), ('M', 23, 0), ('F', 23, 0), ('F', 23, 0), ('M', 23, 0), ('F', 23, 0), ('M', 23, 0), ('M', 23, 0), ('M', 23, 0), ('F', 23, 0), ('M', 23, 0), ('F', 23, 0), ('F', 23, 0), ('F', 23, 0), ('F', 23, 0), ('F', 23, 0), ('F', 23, 0), ('M', 23, 0), ('M', 23, 0), ('M', 23, 0), ('F', 23, 0), ('F', 23, 0), ('M', 23, 0), ('M', 23, 0), ('M', 23, 0)]\n"
     ]
    }
   ],
   "source": [
    "print(generateurmonde(pop))"
   ]
  },
  {
   "cell_type": "raw",
   "metadata": {},
   "source": [
    "on pose le monde E, pour permettre des travailler plus facilement avec un objet fix. "
   ]
  },
  {
   "cell_type": "code",
   "execution_count": 55,
   "metadata": {},
   "outputs": [],
   "source": [
    "E=[('F', 23, 0), ('M', 23, 0), ('F', 23, 0), ('F', 23, 0), ('M', 23, 0), ('F', 23, 0), ('M', 23, 0), ('M', 23, 0), ('M', 23, 0), ('F', 23, 0), ('M', 23, 0), ('F', 23, 0), ('F', 23, 0), ('F', 23, 0), ('F', 23, 0), ('F', 23, 0), ('F', 23, 0), ('M', 23, 0), ('M', 23, 0), ('M', 23, 0), ('F', 23, 0), ('F', 23, 0), ('M', 23, 0), ('M', 23, 0), ('M', 23, 0)]"
   ]
  },
  {
   "cell_type": "code",
   "execution_count": 103,
   "metadata": {},
   "outputs": [
    {
     "name": "stdout",
     "output_type": "stream",
     "text": [
      "0\n"
     ]
    }
   ],
   "source": [
    "print(E[0][2])"
   ]
  },
  {
   "cell_type": "raw",
   "metadata": {},
   "source": [
    "tableau d'affichage en fonction du sexe de l'individu"
   ]
  },
  {
   "cell_type": "code",
   "execution_count": 56,
   "metadata": {},
   "outputs": [],
   "source": [
    "import numpy as np \n",
    "import matplotlib.pyplot as plt\n",
    "def tab(l,c,E):\n",
    "    A=np.zeros((l,c))\n",
    "    k=0\n",
    "    for i in range(l):\n",
    "        for j in range(c):\n",
    "            if E[k][0]=='F':\n",
    "                A[i][j]=1\n",
    "                k=k+1\n",
    "            else:\n",
    "                A[i][j]=-1\n",
    "                k=k+1\n",
    "            \n",
    "    return A"
   ]
  },
  {
   "cell_type": "code",
   "execution_count": 87,
   "metadata": {
    "scrolled": true
   },
   "outputs": [
    {
     "data": {
      "image/png": "[encoded data removed]",
      "text/plain": [
       "<Figure size 432x288 with 2 Axes>"
      ]
     },
     "metadata": {
      "needs_background": "light"
     },
     "output_type": "display_data"
    }
   ],
   "source": [
    "plt.imshow(tab(l,c,E), cmap='hot')\n",
    "plt.colorbar()\n",
    "plt.show()"
   ]
  },
  {
   "cell_type": "code",
   "execution_count": null,
   "metadata": {},
   "outputs": [],
   "source": [
    "fonction permettant de savoir si deux individu sont féconds biologiquement. "
   ]
  },
  {
   "cell_type": "code",
   "execution_count": 60,
   "metadata": {},
   "outputs": [],
   "source": [
    "def is_couple(IND1,IND2):\n",
    "    if IND1[0]==IND2[0]:\n",
    "        return False\n",
    "    else:\n",
    "        return True\n"
   ]
  },
  {
   "cell_type": "code",
   "execution_count": 62,
   "metadata": {},
   "outputs": [
    {
     "name": "stdout",
     "output_type": "stream",
     "text": [
      "False\n"
     ]
    }
   ],
   "source": [
    "print(is_couple(('M', 23, 0),('M', 23, 0)))"
   ]
  },
  {
   "cell_type": "raw",
   "metadata": {},
   "source": [
    "fonction de reproduction de descendants "
   ]
  },
  {
   "cell_type": "code",
   "execution_count": 71,
   "metadata": {},
   "outputs": [],
   "source": [
    "def enfants(couple):\n",
    "    E=[]\n",
    "    IND1,IND2=couple\n",
    "    if is_couple(IND1,IND2) == True:\n",
    "        nb = random.randint(1,2)\n",
    "        for e in range (nb):\n",
    "            E.append((generateursex(p),random.choice([IND1[1],IND2[1]]),random.choice([IND1[2],IND2[2]])))\n",
    "        return E"
   ]
  },
  {
   "cell_type": "code",
   "execution_count": 72,
   "metadata": {},
   "outputs": [
    {
     "name": "stdout",
     "output_type": "stream",
     "text": [
      "[('M', 23, 0)]\n"
     ]
    }
   ],
   "source": [
    "print(enfants((('M', 23, 0),('F', 23, 0))))"
   ]
  },
  {
   "cell_type": "raw",
   "metadata": {},
   "source": [
    "création d'un couple "
   ]
  },
  {
   "cell_type": "code",
   "execution_count": 73,
   "metadata": {},
   "outputs": [],
   "source": [
    "def couple(E):\n",
    "    Male=[]\n",
    "    Femelle=[]\n",
    "    i=0\n",
    "    j=0\n",
    "    for k in range(len(E)):\n",
    "        if E[k][0]=='M':\n",
    "            Male.append(E[k])\n",
    "            i=i+1\n",
    "        else: \n",
    "            Femelle.append(E[k])\n",
    "            j=j+1\n",
    "    return Male, Femelle"
   ]
  },
  {
   "cell_type": "code",
   "execution_count": 74,
   "metadata": {
    "scrolled": true
   },
   "outputs": [
    {
     "name": "stdout",
     "output_type": "stream",
     "text": [
      "([('M', 23, 0), ('M', 23, 0), ('M', 23, 0), ('M', 23, 0), ('M', 23, 0), ('M', 23, 0), ('M', 23, 0), ('M', 23, 0), ('M', 23, 0), ('M', 23, 0), ('M', 23, 0), ('M', 23, 0)], [('F', 23, 0), ('F', 23, 0), ('F', 23, 0), ('F', 23, 0), ('F', 23, 0), ('F', 23, 0), ('F', 23, 0), ('F', 23, 0), ('F', 23, 0), ('F', 23, 0), ('F', 23, 0), ('F', 23, 0), ('F', 23, 0)])\n"
     ]
    }
   ],
   "source": [
    "print(couple(E))"
   ]
  },
  {
   "cell_type": "raw",
   "metadata": {},
   "source": [
    "création d'une liste d'individu qui engendre une descendance. Ceux tout seul sont considérés comme mort après cette étape. "
   ]
  },
  {
   "cell_type": "code",
   "execution_count": 75,
   "metadata": {},
   "outputs": [],
   "source": [
    "def creercouple(E):\n",
    "    Ens=[]\n",
    "    M,F=couple(E)\n",
    "    k=0\n",
    "    N=min(len(M),len(F))\n",
    "    for e in range(N):\n",
    "        Ens.append((M[e],F[e]))\n",
    "        k=k+1\n",
    "    return Ens "
   ]
  },
  {
   "cell_type": "code",
   "execution_count": 76,
   "metadata": {
    "scrolled": true
   },
   "outputs": [],
   "source": [
    "enscouple=creercouple(E)"
   ]
  },
  {
   "cell_type": "code",
   "execution_count": 77,
   "metadata": {
    "scrolled": true
   },
   "outputs": [
    {
     "name": "stdout",
     "output_type": "stream",
     "text": [
      "[(('M', 23, 0), ('F', 23, 0)), (('M', 23, 0), ('F', 23, 0)), (('M', 23, 0), ('F', 23, 0)), (('M', 23, 0), ('F', 23, 0)), (('M', 23, 0), ('F', 23, 0)), (('M', 23, 0), ('F', 23, 0)), (('M', 23, 0), ('F', 23, 0)), (('M', 23, 0), ('F', 23, 0)), (('M', 23, 0), ('F', 23, 0)), (('M', 23, 0), ('F', 23, 0)), (('M', 23, 0), ('F', 23, 0)), (('M', 23, 0), ('F', 23, 0))]\n"
     ]
    }
   ],
   "source": [
    "print(enscouple)"
   ]
  },
  {
   "cell_type": "code",
   "execution_count": 78,
   "metadata": {
    "scrolled": true
   },
   "outputs": [
    {
     "name": "stdout",
     "output_type": "stream",
     "text": [
      "[('F', 23, 0)]\n"
     ]
    }
   ],
   "source": [
    "print(enfants(enscouple[0]))"
   ]
  },
  {
   "cell_type": "raw",
   "metadata": {},
   "source": [
    "création de la liste des descendants "
   ]
  },
  {
   "cell_type": "code",
   "execution_count": 79,
   "metadata": {},
   "outputs": [],
   "source": [
    "def enfantsmonde(enscouple):\n",
    "    ensenfant=[]\n",
    "    for e in enscouple:\n",
    "        ensenfant.append(enfants(e))\n",
    "    return ensenfant"
   ]
  },
  {
   "cell_type": "code",
   "execution_count": 80,
   "metadata": {
    "scrolled": true
   },
   "outputs": [
    {
     "name": "stdout",
     "output_type": "stream",
     "text": [
      "[[('F', 23, 0), ('M', 23, 0)], [('M', 23, 0)], [('F', 23, 0)], [('F', 23, 0), ('M', 23, 0)], [('F', 23, 0)], [('F', 23, 0), ('M', 23, 0)], [('M', 23, 0), ('F', 23, 0)], [('M', 23, 0)], [('M', 23, 0)], [('M', 23, 0)], [('F', 23, 0), ('F', 23, 0)], [('M', 23, 0), ('M', 23, 0)]]\n"
     ]
    }
   ],
   "source": [
    "print(enfantsmonde(enscouple))"
   ]
  },
  {
   "cell_type": "code",
   "execution_count": null,
   "metadata": {},
   "outputs": [],
   "source": [
    "création du nouveau groupe après fécondation. "
   ]
  },
  {
   "cell_type": "code",
   "execution_count": 81,
   "metadata": {},
   "outputs": [],
   "source": [
    "def newmonde(E): \n",
    "    newmonde=[]\n",
    "    newmonde=creercouple(E)+enfantsmonde(creercouple(E))\n",
    "    return newmonde"
   ]
  },
  {
   "cell_type": "code",
   "execution_count": 86,
   "metadata": {},
   "outputs": [
    {
     "name": "stdout",
     "output_type": "stream",
     "text": [
      "[(('M', 23, 0), ('F', 23, 0)), (('M', 23, 0), ('F', 23, 0)), (('M', 23, 0), ('F', 23, 0)), (('M', 23, 0), ('F', 23, 0)), (('M', 23, 0), ('F', 23, 0)), (('M', 23, 0), ('F', 23, 0)), (('M', 23, 0), ('F', 23, 0)), (('M', 23, 0), ('F', 23, 0)), (('M', 23, 0), ('F', 23, 0)), (('M', 23, 0), ('F', 23, 0)), (('M', 23, 0), ('F', 23, 0)), (('M', 23, 0), ('F', 23, 0)), [('F', 23, 0)], [('M', 23, 0), ('F', 23, 0)], [('M', 23, 0)], [('F', 23, 0)], [('F', 23, 0), ('M', 23, 0)], [('F', 23, 0), ('M', 23, 0)], [('F', 23, 0)], [('M', 23, 0)], [('F', 23, 0), ('M', 23, 0)], [('M', 23, 0), ('M', 23, 0)], [('F', 23, 0)], [('M', 23, 0)]] \n",
      " 24\n"
     ]
    }
   ],
   "source": [
    "print(newmonde(E),\"\\n\", len(newmonde(E)))"
   ]
  },
  {
   "cell_type": "raw",
   "metadata": {},
   "source": [
    "création de la fonction faisant intervenir les mutations"
   ]
  },
  {
   "cell_type": "code",
   "execution_count": 128,
   "metadata": {},
   "outputs": [],
   "source": [
    "def mutationrand(E):\n",
    "    new_E_mut=[]\n",
    "    nb=0\n",
    "    for i in range(len(E)):\n",
    "        r=random.choice([0,1])\n",
    "        if nb<nb_mutations_par_nucléotide and r==1: \n",
    "            sex,nb_chr,nb_mut=E[i]\n",
    "            nb_mut=nb_mut+1\n",
    "            E[i]=sex,nb_chr,nb_mut\n",
    "            new_E_mut.append(E[i])\n",
    "            nb=nb+1\n",
    "        else: \n",
    "            new_E_mut.append(E[i])\n",
    "    return new_E_mut"
   ]
  },
  {
   "cell_type": "code",
   "execution_count": 129,
   "metadata": {},
   "outputs": [
    {
     "name": "stdout",
     "output_type": "stream",
     "text": [
      "[('F', 23, 1), ('M', 23, 1), ('F', 23, 1), ('F', 23, 0), ('M', 23, 0), ('F', 23, 1), ('M', 23, 1), ('M', 23, 0), ('M', 23, 1), ('F', 23, 1), ('M', 23, 1), ('F', 23, 0), ('F', 23, 1), ('F', 23, 0), ('F', 23, 1), ('F', 23, 0), ('F', 23, 1), ('M', 23, 1), ('M', 23, 0), ('M', 23, 0), ('F', 23, 1), ('F', 23, 1), ('M', 23, 0), ('M', 23, 0), ('M', 23, 0)]\n"
     ]
    }
   ],
   "source": [
    "print(mutationrand(E))"
   ]
  },
  {
   "cell_type": "raw",
   "metadata": {},
   "source": [
    "fonction d'affichage "
   ]
  },
  {
   "cell_type": "code",
   "execution_count": 130,
   "metadata": {},
   "outputs": [],
   "source": [
    "def tabmut(l,c,E):\n",
    "    A=np.zeros((l,c))\n",
    "    k=0\n",
    "    for i in range(l):\n",
    "        for j in range(c):\n",
    "            A[i][j]=E[k][2]/23\n",
    "            k=k+1\n",
    "    return A"
   ]
  },
  {
   "cell_type": "code",
   "execution_count": 134,
   "metadata": {},
   "outputs": [
    {
     "data": {
      "image/png": "[encoded data removed]",
      "text/plain": [
       "<Figure size 432x288 with 2 Axes>"
      ]
     },
     "metadata": {
      "needs_background": "light"
     },
     "output_type": "display_data"
    }
   ],
   "source": [
    "plt.imshow(tabmut(l,c,mutationrand(E)), cmap='summer')\n",
    "plt.colorbar()\n",
    "plt.show()"
   ]
  },
  {
   "cell_type": "code",
   "execution_count": null,
   "metadata": {},
   "outputs": [],
   "source": []
  }
 ],
 "metadata": {
  "kernelspec": {
   "display_name": "Python 3",
   "language": "python",
   "name": "python3"
  },
  "language_info": {
   "codemirror_mode": {
    "name": "ipython",
    "version": 3
   },
   "file_extension": ".py",
   "mimetype": "text/x-python",
   "name": "python",
   "nbconvert_exporter": "python",
   "pygments_lexer": "ipython3",
   "version": "3.7.3"
  }
 },
 "nbformat": 4,
 "nbformat_minor": 2
}
